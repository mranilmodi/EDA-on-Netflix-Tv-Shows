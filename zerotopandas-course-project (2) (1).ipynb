{
 "cells": [
  {
   "cell_type": "code",
   "execution_count": 1,
   "metadata": {},
   "outputs": [],
   "source": [
    "import pandas as pd"
   ]
  },
  {
   "cell_type": "code",
   "execution_count": 2,
   "metadata": {},
   "outputs": [],
   "source": [
    "hotstar_df = pd.read_csv('E:\\hotstar.csv')"
   ]
  },
  {
   "cell_type": "code",
   "execution_count": 3,
   "metadata": {},
   "outputs": [
    {
     "data": {
      "text/html": [
       "<div>\n",
       "<style scoped>\n",
       "    .dataframe tbody tr th:only-of-type {\n",
       "        vertical-align: middle;\n",
       "    }\n",
       "\n",
       "    .dataframe tbody tr th {\n",
       "        vertical-align: top;\n",
       "    }\n",
       "\n",
       "    .dataframe thead th {\n",
       "        text-align: right;\n",
       "    }\n",
       "</style>\n",
       "<table border=\"1\" class=\"dataframe\">\n",
       "  <thead>\n",
       "    <tr style=\"text-align: right;\">\n",
       "      <th></th>\n",
       "      <th>hotstar_id</th>\n",
       "      <th>title</th>\n",
       "      <th>description</th>\n",
       "      <th>genre</th>\n",
       "      <th>year</th>\n",
       "      <th>age_rating</th>\n",
       "      <th>running_time</th>\n",
       "      <th>seasons</th>\n",
       "      <th>episodes</th>\n",
       "      <th>type</th>\n",
       "    </tr>\n",
       "  </thead>\n",
       "  <tbody>\n",
       "    <tr>\n",
       "      <th>0</th>\n",
       "      <td>1000087439</td>\n",
       "      <td>Sambha - Aajcha Chawa</td>\n",
       "      <td>A young man sets off on a mission to clean up ...</td>\n",
       "      <td>Action</td>\n",
       "      <td>2012</td>\n",
       "      <td>U/A 16+</td>\n",
       "      <td>141.0</td>\n",
       "      <td>NaN</td>\n",
       "      <td>NaN</td>\n",
       "      <td>movie</td>\n",
       "    </tr>\n",
       "    <tr>\n",
       "      <th>1</th>\n",
       "      <td>1260023113</td>\n",
       "      <td>Cars Toon: Mater And The Ghostlight</td>\n",
       "      <td>Mater is haunted by a mysterious blue light th...</td>\n",
       "      <td>Animation</td>\n",
       "      <td>2006</td>\n",
       "      <td>U</td>\n",
       "      <td>7.0</td>\n",
       "      <td>NaN</td>\n",
       "      <td>NaN</td>\n",
       "      <td>movie</td>\n",
       "    </tr>\n",
       "    <tr>\n",
       "      <th>2</th>\n",
       "      <td>1260103188</td>\n",
       "      <td>Kanmani Rambo Khatija</td>\n",
       "      <td>Unlucky since birth, Rambo finds hope when he ...</td>\n",
       "      <td>Romance</td>\n",
       "      <td>2022</td>\n",
       "      <td>U/A 16+</td>\n",
       "      <td>157.0</td>\n",
       "      <td>NaN</td>\n",
       "      <td>NaN</td>\n",
       "      <td>movie</td>\n",
       "    </tr>\n",
       "    <tr>\n",
       "      <th>3</th>\n",
       "      <td>1260126754</td>\n",
       "      <td>Butterfly</td>\n",
       "      <td>While trying to rescue her sister's kids from ...</td>\n",
       "      <td>Thriller</td>\n",
       "      <td>2022</td>\n",
       "      <td>U/A 16+</td>\n",
       "      <td>136.0</td>\n",
       "      <td>NaN</td>\n",
       "      <td>NaN</td>\n",
       "      <td>movie</td>\n",
       "    </tr>\n",
       "    <tr>\n",
       "      <th>4</th>\n",
       "      <td>1260018228</td>\n",
       "      <td>Sister Act</td>\n",
       "      <td>Rene, a lounge singer, decides to stay at a Ch...</td>\n",
       "      <td>Comedy</td>\n",
       "      <td>1992</td>\n",
       "      <td>U/A 7+</td>\n",
       "      <td>100.0</td>\n",
       "      <td>NaN</td>\n",
       "      <td>NaN</td>\n",
       "      <td>movie</td>\n",
       "    </tr>\n",
       "    <tr>\n",
       "      <th>...</th>\n",
       "      <td>...</td>\n",
       "      <td>...</td>\n",
       "      <td>...</td>\n",
       "      <td>...</td>\n",
       "      <td>...</td>\n",
       "      <td>...</td>\n",
       "      <td>...</td>\n",
       "      <td>...</td>\n",
       "      <td>...</td>\n",
       "      <td>...</td>\n",
       "    </tr>\n",
       "    <tr>\n",
       "      <th>6869</th>\n",
       "      <td>1260127438</td>\n",
       "      <td>Will Trent</td>\n",
       "      <td>SHOW ON BREAK- NEXT EPISODE ON 15TH FEB. Speci...</td>\n",
       "      <td>Crime</td>\n",
       "      <td>2023</td>\n",
       "      <td>U/A 16+</td>\n",
       "      <td>NaN</td>\n",
       "      <td>1.0</td>\n",
       "      <td>5.0</td>\n",
       "      <td>tv</td>\n",
       "    </tr>\n",
       "    <tr>\n",
       "      <th>6870</th>\n",
       "      <td>1260008508</td>\n",
       "      <td>KBD Juniors - Qualifiers</td>\n",
       "      <td>Match highlights of Kabaddi Junior</td>\n",
       "      <td>Sport</td>\n",
       "      <td>2019</td>\n",
       "      <td>U</td>\n",
       "      <td>NaN</td>\n",
       "      <td>1.0</td>\n",
       "      <td>32.0</td>\n",
       "      <td>tv</td>\n",
       "    </tr>\n",
       "    <tr>\n",
       "      <th>6871</th>\n",
       "      <td>12551</td>\n",
       "      <td>Dil Hai Hindustani</td>\n",
       "      <td>Sway to the tunes of the best Hindi/Bollywood ...</td>\n",
       "      <td>Reality</td>\n",
       "      <td>2017</td>\n",
       "      <td>U/A 13+</td>\n",
       "      <td>NaN</td>\n",
       "      <td>2.0</td>\n",
       "      <td>57.0</td>\n",
       "      <td>tv</td>\n",
       "    </tr>\n",
       "    <tr>\n",
       "      <th>6872</th>\n",
       "      <td>1260065225</td>\n",
       "      <td>On The Brink</td>\n",
       "      <td>The series reveals the hidden splendours of In...</td>\n",
       "      <td>Animals &amp; Nature</td>\n",
       "      <td>2021</td>\n",
       "      <td>U/A 7+</td>\n",
       "      <td>NaN</td>\n",
       "      <td>2.0</td>\n",
       "      <td>18.0</td>\n",
       "      <td>tv</td>\n",
       "    </tr>\n",
       "    <tr>\n",
       "      <th>6873</th>\n",
       "      <td>1260129361</td>\n",
       "      <td>Mahanadhi</td>\n",
       "      <td>Tragedy befalls a happy middle-class family af...</td>\n",
       "      <td>Family</td>\n",
       "      <td>2023</td>\n",
       "      <td>U/A 13+</td>\n",
       "      <td>NaN</td>\n",
       "      <td>1.0</td>\n",
       "      <td>10.0</td>\n",
       "      <td>tv</td>\n",
       "    </tr>\n",
       "  </tbody>\n",
       "</table>\n",
       "<p>6874 rows × 10 columns</p>\n",
       "</div>"
      ],
      "text/plain": [
       "      hotstar_id                                title  \\\n",
       "0     1000087439                Sambha - Aajcha Chawa   \n",
       "1     1260023113  Cars Toon: Mater And The Ghostlight   \n",
       "2     1260103188                Kanmani Rambo Khatija   \n",
       "3     1260126754                            Butterfly   \n",
       "4     1260018228                           Sister Act   \n",
       "...          ...                                  ...   \n",
       "6869  1260127438                           Will Trent   \n",
       "6870  1260008508             KBD Juniors - Qualifiers   \n",
       "6871       12551                   Dil Hai Hindustani   \n",
       "6872  1260065225                         On The Brink   \n",
       "6873  1260129361                            Mahanadhi   \n",
       "\n",
       "                                            description             genre  \\\n",
       "0     A young man sets off on a mission to clean up ...            Action   \n",
       "1     Mater is haunted by a mysterious blue light th...         Animation   \n",
       "2     Unlucky since birth, Rambo finds hope when he ...           Romance   \n",
       "3     While trying to rescue her sister's kids from ...          Thriller   \n",
       "4     Rene, a lounge singer, decides to stay at a Ch...            Comedy   \n",
       "...                                                 ...               ...   \n",
       "6869  SHOW ON BREAK- NEXT EPISODE ON 15TH FEB. Speci...             Crime   \n",
       "6870                 Match highlights of Kabaddi Junior             Sport   \n",
       "6871  Sway to the tunes of the best Hindi/Bollywood ...           Reality   \n",
       "6872  The series reveals the hidden splendours of In...  Animals & Nature   \n",
       "6873  Tragedy befalls a happy middle-class family af...            Family   \n",
       "\n",
       "      year age_rating  running_time  seasons  episodes   type  \n",
       "0     2012    U/A 16+         141.0      NaN       NaN  movie  \n",
       "1     2006          U           7.0      NaN       NaN  movie  \n",
       "2     2022    U/A 16+         157.0      NaN       NaN  movie  \n",
       "3     2022    U/A 16+         136.0      NaN       NaN  movie  \n",
       "4     1992     U/A 7+         100.0      NaN       NaN  movie  \n",
       "...    ...        ...           ...      ...       ...    ...  \n",
       "6869  2023    U/A 16+           NaN      1.0       5.0     tv  \n",
       "6870  2019          U           NaN      1.0      32.0     tv  \n",
       "6871  2017    U/A 13+           NaN      2.0      57.0     tv  \n",
       "6872  2021     U/A 7+           NaN      2.0      18.0     tv  \n",
       "6873  2023    U/A 13+           NaN      1.0      10.0     tv  \n",
       "\n",
       "[6874 rows x 10 columns]"
      ]
     },
     "execution_count": 3,
     "metadata": {},
     "output_type": "execute_result"
    }
   ],
   "source": [
    "hotstar_df"
   ]
  },
  {
   "cell_type": "markdown",
   "metadata": {},
   "source": [
    "### Find Shape, size and information"
   ]
  },
  {
   "cell_type": "code",
   "execution_count": 13,
   "metadata": {},
   "outputs": [
    {
     "data": {
      "text/plain": [
       "(6359, 10)"
      ]
     },
     "execution_count": 13,
     "metadata": {},
     "output_type": "execute_result"
    }
   ],
   "source": [
    "hotstar_df.shape"
   ]
  },
  {
   "cell_type": "markdown",
   "metadata": {},
   "source": [
    "In This Datasets, 6359 total rows and 10 column"
   ]
  },
  {
   "cell_type": "code",
   "execution_count": 14,
   "metadata": {},
   "outputs": [
    {
     "data": {
      "text/plain": [
       "63590"
      ]
     },
     "execution_count": 14,
     "metadata": {},
     "output_type": "execute_result"
    }
   ],
   "source": [
    "hotstar_df.size"
   ]
  },
  {
   "cell_type": "markdown",
   "metadata": {},
   "source": [
    "In this Dataset, to values 63590 both numerical and string "
   ]
  },
  {
   "cell_type": "code",
   "execution_count": 15,
   "metadata": {},
   "outputs": [
    {
     "name": "stdout",
     "output_type": "stream",
     "text": [
      "<class 'pandas.core.frame.DataFrame'>\n",
      "RangeIndex: 6359 entries, 0 to 6358\n",
      "Data columns (total 10 columns):\n",
      " #   Column        Non-Null Count  Dtype  \n",
      "---  ------        --------------  -----  \n",
      " 0   hotstar_id    6359 non-null   int64  \n",
      " 1   title         6359 non-null   object \n",
      " 2   description   6359 non-null   object \n",
      " 3   genre         6359 non-null   object \n",
      " 4   year          6359 non-null   int64  \n",
      " 5   age_rating    6359 non-null   object \n",
      " 6   running_time  4188 non-null   float64\n",
      " 7   seasons       2171 non-null   float64\n",
      " 8   episodes      2171 non-null   float64\n",
      " 9   type          6359 non-null   object \n",
      "dtypes: float64(3), int64(2), object(5)\n",
      "memory usage: 496.9+ KB\n"
     ]
    }
   ],
   "source": [
    "hotstar_df.info()"
   ]
  },
  {
   "cell_type": "markdown",
   "metadata": {},
   "source": [
    "n this store all information like how many data store in perticular columns, in int and object datatyps"
   ]
  },
  {
   "cell_type": "markdown",
   "metadata": {},
   "source": [
    "### Find Columns name, datatypes"
   ]
  },
  {
   "cell_type": "code",
   "execution_count": 16,
   "metadata": {},
   "outputs": [
    {
     "data": {
      "text/plain": [
       "Index(['hotstar_id', 'title', 'description', 'genre', 'year', 'age_rating',\n",
       "       'running_time', 'seasons', 'episodes', 'type'],\n",
       "      dtype='object')"
      ]
     },
     "execution_count": 16,
     "metadata": {},
     "output_type": "execute_result"
    }
   ],
   "source": [
    "hotstar_df.columns"
   ]
  },
  {
   "cell_type": "markdown",
   "metadata": {},
   "source": [
    "These are all columns include in Dataset"
   ]
  },
  {
   "cell_type": "code",
   "execution_count": 17,
   "metadata": {},
   "outputs": [
    {
     "data": {
      "text/plain": [
       "hotstar_id        int64\n",
       "title            object\n",
       "description      object\n",
       "genre            object\n",
       "year              int64\n",
       "age_rating       object\n",
       "running_time    float64\n",
       "seasons         float64\n",
       "episodes        float64\n",
       "type             object\n",
       "dtype: object"
      ]
     },
     "execution_count": 17,
     "metadata": {},
     "output_type": "execute_result"
    }
   ],
   "source": [
    "hotstar_df.dtypes"
   ]
  },
  {
   "cell_type": "markdown",
   "metadata": {},
   "source": [
    "In this Dataset, include 5 object types, 2 int, and 3 flote detatypes. "
   ]
  },
  {
   "cell_type": "raw",
   "metadata": {},
   "source": [
    "Data Preparation and Cleaning¶\n",
    "Data cleaning is the process of editing, correcting, and structuring data within a data set so that it’s generally uniform and prepared for analysis. This includes removing or replace missing value or irrelevant data and formatting it into a language that computers can understand for optimal analysis\n",
    "\n",
    "Now we comming on Second step Data Preparation and Cleaning. in this step we we done clear datasets, like\n",
    "\n",
    "first of all, we import pandas for read csv file,\n",
    "find all information, size, and shpae of Detaset,\n",
    "find all columns name and detatype of Dataset,\n",
    "find all duplicates and nul values in datasets,\n",
    "fill the all missing values by 0 in Datasets,\n",
    "and last Describe in sort of Datasets."
   ]
  },
  {
   "cell_type": "markdown",
   "metadata": {},
   "source": [
    "### Find Duplicated and Null values in Dataset"
   ]
  },
  {
   "cell_type": "code",
   "execution_count": 18,
   "metadata": {},
   "outputs": [
    {
     "data": {
      "text/html": [
       "<div>\n",
       "<style scoped>\n",
       "    .dataframe tbody tr th:only-of-type {\n",
       "        vertical-align: middle;\n",
       "    }\n",
       "\n",
       "    .dataframe tbody tr th {\n",
       "        vertical-align: top;\n",
       "    }\n",
       "\n",
       "    .dataframe thead th {\n",
       "        text-align: right;\n",
       "    }\n",
       "</style>\n",
       "<table border=\"1\" class=\"dataframe\">\n",
       "  <thead>\n",
       "    <tr style=\"text-align: right;\">\n",
       "      <th></th>\n",
       "      <th>hotstar_id</th>\n",
       "      <th>title</th>\n",
       "      <th>description</th>\n",
       "      <th>genre</th>\n",
       "      <th>year</th>\n",
       "      <th>age_rating</th>\n",
       "      <th>running_time</th>\n",
       "      <th>seasons</th>\n",
       "      <th>episodes</th>\n",
       "      <th>type</th>\n",
       "    </tr>\n",
       "  </thead>\n",
       "  <tbody>\n",
       "  </tbody>\n",
       "</table>\n",
       "</div>"
      ],
      "text/plain": [
       "Empty DataFrame\n",
       "Columns: [hotstar_id, title, description, genre, year, age_rating, running_time, seasons, episodes, type]\n",
       "Index: []"
      ]
     },
     "execution_count": 18,
     "metadata": {},
     "output_type": "execute_result"
    }
   ],
   "source": [
    "hotstar_df[hotstar_df.duplicated()]"
   ]
  },
  {
   "cell_type": "markdown",
   "metadata": {},
   "source": [
    "No Any Duplicate values in Dataset of Hotstar"
   ]
  },
  {
   "cell_type": "code",
   "execution_count": 19,
   "metadata": {},
   "outputs": [
    {
     "data": {
      "text/plain": [
       "seasons         4188\n",
       "episodes        4188\n",
       "running_time    2171\n",
       "hotstar_id         0\n",
       "title              0\n",
       "description        0\n",
       "genre              0\n",
       "year               0\n",
       "age_rating         0\n",
       "type               0\n",
       "dtype: int64"
      ]
     },
     "execution_count": 19,
     "metadata": {},
     "output_type": "execute_result"
    }
   ],
   "source": [
    "hotstar_df.isnull().sum().sort_values(ascending=False)"
   ]
  },
  {
   "cell_type": "markdown",
   "metadata": {},
   "source": [
    "In this Dataset, 4188 missing values in seasons columns, 4188 missing values in Episodes columns and 2171 missing values in running time.\n",
    "now we fill all missing values by 0 in Datasets"
   ]
  },
  {
   "cell_type": "code",
   "execution_count": 20,
   "metadata": {},
   "outputs": [],
   "source": [
    "hotstar_df.fillna(0, inplace=True)"
   ]
  },
  {
   "cell_type": "code",
   "execution_count": 21,
   "metadata": {},
   "outputs": [
    {
     "data": {
      "text/html": [
       "<div>\n",
       "<style scoped>\n",
       "    .dataframe tbody tr th:only-of-type {\n",
       "        vertical-align: middle;\n",
       "    }\n",
       "\n",
       "    .dataframe tbody tr th {\n",
       "        vertical-align: top;\n",
       "    }\n",
       "\n",
       "    .dataframe thead th {\n",
       "        text-align: right;\n",
       "    }\n",
       "</style>\n",
       "<table border=\"1\" class=\"dataframe\">\n",
       "  <thead>\n",
       "    <tr style=\"text-align: right;\">\n",
       "      <th></th>\n",
       "      <th>hotstar_id</th>\n",
       "      <th>title</th>\n",
       "      <th>description</th>\n",
       "      <th>genre</th>\n",
       "      <th>year</th>\n",
       "      <th>age_rating</th>\n",
       "      <th>running_time</th>\n",
       "      <th>seasons</th>\n",
       "      <th>episodes</th>\n",
       "      <th>type</th>\n",
       "    </tr>\n",
       "  </thead>\n",
       "  <tbody>\n",
       "    <tr>\n",
       "      <th>0</th>\n",
       "      <td>1835064133</td>\n",
       "      <td>The Ring</td>\n",
       "      <td>Mutually divorced Aman emotionally struggles t...</td>\n",
       "      <td>Drama</td>\n",
       "      <td>2021</td>\n",
       "      <td>U/A 13+</td>\n",
       "      <td>17.0</td>\n",
       "      <td>0.0</td>\n",
       "      <td>0.0</td>\n",
       "      <td>movie</td>\n",
       "    </tr>\n",
       "    <tr>\n",
       "      <th>1</th>\n",
       "      <td>1260015636</td>\n",
       "      <td>Jesus: Rise To Power And Birth Of Christianity</td>\n",
       "      <td>A journey across the historic landscapes of th...</td>\n",
       "      <td>Documentary</td>\n",
       "      <td>2019</td>\n",
       "      <td>U/A 13+</td>\n",
       "      <td>42.0</td>\n",
       "      <td>0.0</td>\n",
       "      <td>0.0</td>\n",
       "      <td>movie</td>\n",
       "    </tr>\n",
       "    <tr>\n",
       "      <th>2</th>\n",
       "      <td>1000070418</td>\n",
       "      <td>Yama Muduru</td>\n",
       "      <td>Krishna Kumar is popular in college for his mu...</td>\n",
       "      <td>Drama</td>\n",
       "      <td>2009</td>\n",
       "      <td>U/A 13+</td>\n",
       "      <td>129.0</td>\n",
       "      <td>0.0</td>\n",
       "      <td>0.0</td>\n",
       "      <td>movie</td>\n",
       "    </tr>\n",
       "    <tr>\n",
       "      <th>3</th>\n",
       "      <td>1770000804</td>\n",
       "      <td>X-Men: The Last Stand</td>\n",
       "      <td>When humans find a cure for mutation, Professo...</td>\n",
       "      <td>Superhero</td>\n",
       "      <td>2006</td>\n",
       "      <td>U/A 13+</td>\n",
       "      <td>103.0</td>\n",
       "      <td>0.0</td>\n",
       "      <td>0.0</td>\n",
       "      <td>movie</td>\n",
       "    </tr>\n",
       "    <tr>\n",
       "      <th>4</th>\n",
       "      <td>1770005017</td>\n",
       "      <td>Mangalyaan: India's Mission To Mars</td>\n",
       "      <td>In this special, watch the 650 million km jour...</td>\n",
       "      <td>Documentary</td>\n",
       "      <td>2017</td>\n",
       "      <td>U</td>\n",
       "      <td>44.0</td>\n",
       "      <td>0.0</td>\n",
       "      <td>0.0</td>\n",
       "      <td>movie</td>\n",
       "    </tr>\n",
       "    <tr>\n",
       "      <th>...</th>\n",
       "      <td>...</td>\n",
       "      <td>...</td>\n",
       "      <td>...</td>\n",
       "      <td>...</td>\n",
       "      <td>...</td>\n",
       "      <td>...</td>\n",
       "      <td>...</td>\n",
       "      <td>...</td>\n",
       "      <td>...</td>\n",
       "      <td>...</td>\n",
       "    </tr>\n",
       "    <tr>\n",
       "      <th>6354</th>\n",
       "      <td>18211</td>\n",
       "      <td>MS Dhoni - Reimagined Hindi</td>\n",
       "      <td>MS Dhoni's career reimagined, watch streaming ...</td>\n",
       "      <td>Sport</td>\n",
       "      <td>2018</td>\n",
       "      <td>U/A 13+</td>\n",
       "      <td>0.0</td>\n",
       "      <td>1.0</td>\n",
       "      <td>1.0</td>\n",
       "      <td>tv</td>\n",
       "    </tr>\n",
       "    <tr>\n",
       "      <th>6355</th>\n",
       "      <td>1260063600</td>\n",
       "      <td>Sasneham</td>\n",
       "      <td>An old-age home reunites past lovers Indira an...</td>\n",
       "      <td>Drama</td>\n",
       "      <td>2021</td>\n",
       "      <td>U/A 13+</td>\n",
       "      <td>0.0</td>\n",
       "      <td>1.0</td>\n",
       "      <td>345.0</td>\n",
       "      <td>tv</td>\n",
       "    </tr>\n",
       "    <tr>\n",
       "      <th>6356</th>\n",
       "      <td>1260071152</td>\n",
       "      <td>Bolo Ambe Maa Ki Jai</td>\n",
       "      <td>Narrated by Saptarishi, celebrate Navratri wit...</td>\n",
       "      <td>Mythology</td>\n",
       "      <td>2021</td>\n",
       "      <td>U/A 13+</td>\n",
       "      <td>0.0</td>\n",
       "      <td>1.0</td>\n",
       "      <td>5.0</td>\n",
       "      <td>tv</td>\n",
       "    </tr>\n",
       "    <tr>\n",
       "      <th>6357</th>\n",
       "      <td>1260002656</td>\n",
       "      <td>Ambi Ning Vaisaytho Specials</td>\n",
       "      <td>Catch all the fun, gossips, and anecdotes from...</td>\n",
       "      <td>Reality</td>\n",
       "      <td>2018</td>\n",
       "      <td>G</td>\n",
       "      <td>0.0</td>\n",
       "      <td>1.0</td>\n",
       "      <td>1.0</td>\n",
       "      <td>tv</td>\n",
       "    </tr>\n",
       "    <tr>\n",
       "      <th>6358</th>\n",
       "      <td>1260003179</td>\n",
       "      <td>Dil Toh Happy Hai Ji</td>\n",
       "      <td>Based in Amritsar, this is a joyful tale of fr...</td>\n",
       "      <td>Drama</td>\n",
       "      <td>2019</td>\n",
       "      <td>U/A 13+</td>\n",
       "      <td>0.0</td>\n",
       "      <td>1.0</td>\n",
       "      <td>148.0</td>\n",
       "      <td>tv</td>\n",
       "    </tr>\n",
       "  </tbody>\n",
       "</table>\n",
       "<p>6359 rows × 10 columns</p>\n",
       "</div>"
      ],
      "text/plain": [
       "      hotstar_id                                           title  \\\n",
       "0     1835064133                                        The Ring   \n",
       "1     1260015636  Jesus: Rise To Power And Birth Of Christianity   \n",
       "2     1000070418                                     Yama Muduru   \n",
       "3     1770000804                           X-Men: The Last Stand   \n",
       "4     1770005017             Mangalyaan: India's Mission To Mars   \n",
       "...          ...                                             ...   \n",
       "6354       18211                     MS Dhoni - Reimagined Hindi   \n",
       "6355  1260063600                                        Sasneham   \n",
       "6356  1260071152                            Bolo Ambe Maa Ki Jai   \n",
       "6357  1260002656                    Ambi Ning Vaisaytho Specials   \n",
       "6358  1260003179                            Dil Toh Happy Hai Ji   \n",
       "\n",
       "                                            description        genre  year  \\\n",
       "0     Mutually divorced Aman emotionally struggles t...        Drama  2021   \n",
       "1     A journey across the historic landscapes of th...  Documentary  2019   \n",
       "2     Krishna Kumar is popular in college for his mu...        Drama  2009   \n",
       "3     When humans find a cure for mutation, Professo...    Superhero  2006   \n",
       "4     In this special, watch the 650 million km jour...  Documentary  2017   \n",
       "...                                                 ...          ...   ...   \n",
       "6354  MS Dhoni's career reimagined, watch streaming ...        Sport  2018   \n",
       "6355  An old-age home reunites past lovers Indira an...        Drama  2021   \n",
       "6356  Narrated by Saptarishi, celebrate Navratri wit...    Mythology  2021   \n",
       "6357  Catch all the fun, gossips, and anecdotes from...      Reality  2018   \n",
       "6358  Based in Amritsar, this is a joyful tale of fr...        Drama  2019   \n",
       "\n",
       "     age_rating  running_time  seasons  episodes   type  \n",
       "0       U/A 13+          17.0      0.0       0.0  movie  \n",
       "1       U/A 13+          42.0      0.0       0.0  movie  \n",
       "2       U/A 13+         129.0      0.0       0.0  movie  \n",
       "3       U/A 13+         103.0      0.0       0.0  movie  \n",
       "4             U          44.0      0.0       0.0  movie  \n",
       "...         ...           ...      ...       ...    ...  \n",
       "6354    U/A 13+           0.0      1.0       1.0     tv  \n",
       "6355    U/A 13+           0.0      1.0     345.0     tv  \n",
       "6356    U/A 13+           0.0      1.0       5.0     tv  \n",
       "6357          G           0.0      1.0       1.0     tv  \n",
       "6358    U/A 13+           0.0      1.0     148.0     tv  \n",
       "\n",
       "[6359 rows x 10 columns]"
      ]
     },
     "execution_count": 21,
     "metadata": {},
     "output_type": "execute_result"
    }
   ],
   "source": [
    "hotstar_df"
   ]
  },
  {
   "cell_type": "code",
   "execution_count": 22,
   "metadata": {},
   "outputs": [
    {
     "data": {
      "text/plain": [
       "hotstar_id      0\n",
       "title           0\n",
       "description     0\n",
       "genre           0\n",
       "year            0\n",
       "age_rating      0\n",
       "running_time    0\n",
       "seasons         0\n",
       "episodes        0\n",
       "type            0\n",
       "dtype: int64"
      ]
     },
     "execution_count": 22,
     "metadata": {},
     "output_type": "execute_result"
    }
   ],
   "source": [
    "hotstar_df.isnull().sum()"
   ]
  },
  {
   "cell_type": "markdown",
   "metadata": {},
   "source": [
    "### Describe the Datasets find all max , min etc.."
   ]
  },
  {
   "cell_type": "code",
   "execution_count": 23,
   "metadata": {},
   "outputs": [
    {
     "data": {
      "text/html": [
       "<div>\n",
       "<style scoped>\n",
       "    .dataframe tbody tr th:only-of-type {\n",
       "        vertical-align: middle;\n",
       "    }\n",
       "\n",
       "    .dataframe tbody tr th {\n",
       "        vertical-align: top;\n",
       "    }\n",
       "\n",
       "    .dataframe thead th {\n",
       "        text-align: right;\n",
       "    }\n",
       "</style>\n",
       "<table border=\"1\" class=\"dataframe\">\n",
       "  <thead>\n",
       "    <tr style=\"text-align: right;\">\n",
       "      <th></th>\n",
       "      <th>hotstar_id</th>\n",
       "      <th>year</th>\n",
       "      <th>running_time</th>\n",
       "      <th>seasons</th>\n",
       "      <th>episodes</th>\n",
       "    </tr>\n",
       "  </thead>\n",
       "  <tbody>\n",
       "    <tr>\n",
       "      <th>count</th>\n",
       "      <td>6.359000e+03</td>\n",
       "      <td>6359.000000</td>\n",
       "      <td>6359.000000</td>\n",
       "      <td>6359.000000</td>\n",
       "      <td>6359.000000</td>\n",
       "    </tr>\n",
       "    <tr>\n",
       "      <th>mean</th>\n",
       "      <td>1.040192e+09</td>\n",
       "      <td>2010.908162</td>\n",
       "      <td>68.504639</td>\n",
       "      <td>0.936940</td>\n",
       "      <td>43.057713</td>\n",
       "    </tr>\n",
       "    <tr>\n",
       "      <th>std</th>\n",
       "      <td>4.977201e+08</td>\n",
       "      <td>12.025939</td>\n",
       "      <td>61.854342</td>\n",
       "      <td>3.232953</td>\n",
       "      <td>159.957033</td>\n",
       "    </tr>\n",
       "    <tr>\n",
       "      <th>min</th>\n",
       "      <td>3.000000e+00</td>\n",
       "      <td>1928.000000</td>\n",
       "      <td>0.000000</td>\n",
       "      <td>0.000000</td>\n",
       "      <td>0.000000</td>\n",
       "    </tr>\n",
       "    <tr>\n",
       "      <th>25%</th>\n",
       "      <td>1.000070e+09</td>\n",
       "      <td>2008.000000</td>\n",
       "      <td>0.000000</td>\n",
       "      <td>0.000000</td>\n",
       "      <td>0.000000</td>\n",
       "    </tr>\n",
       "    <tr>\n",
       "      <th>50%</th>\n",
       "      <td>1.000239e+09</td>\n",
       "      <td>2015.000000</td>\n",
       "      <td>85.000000</td>\n",
       "      <td>0.000000</td>\n",
       "      <td>0.000000</td>\n",
       "    </tr>\n",
       "    <tr>\n",
       "      <th>75%</th>\n",
       "      <td>1.260061e+09</td>\n",
       "      <td>2019.000000</td>\n",
       "      <td>128.000000</td>\n",
       "      <td>1.000000</td>\n",
       "      <td>6.000000</td>\n",
       "    </tr>\n",
       "    <tr>\n",
       "      <th>max</th>\n",
       "      <td>1.837059e+09</td>\n",
       "      <td>2022.000000</td>\n",
       "      <td>199.000000</td>\n",
       "      <td>73.000000</td>\n",
       "      <td>3792.000000</td>\n",
       "    </tr>\n",
       "  </tbody>\n",
       "</table>\n",
       "</div>"
      ],
      "text/plain": [
       "         hotstar_id         year  running_time      seasons     episodes\n",
       "count  6.359000e+03  6359.000000   6359.000000  6359.000000  6359.000000\n",
       "mean   1.040192e+09  2010.908162     68.504639     0.936940    43.057713\n",
       "std    4.977201e+08    12.025939     61.854342     3.232953   159.957033\n",
       "min    3.000000e+00  1928.000000      0.000000     0.000000     0.000000\n",
       "25%    1.000070e+09  2008.000000      0.000000     0.000000     0.000000\n",
       "50%    1.000239e+09  2015.000000     85.000000     0.000000     0.000000\n",
       "75%    1.260061e+09  2019.000000    128.000000     1.000000     6.000000\n",
       "max    1.837059e+09  2022.000000    199.000000    73.000000  3792.000000"
      ]
     },
     "execution_count": 23,
     "metadata": {},
     "output_type": "execute_result"
    }
   ],
   "source": [
    "hotstar_df.describe()"
   ]
  },
  {
   "cell_type": "markdown",
   "metadata": {},
   "source": [
    "in this detaset find all value like, max , min , count etc.."
   ]
  },
  {
   "cell_type": "markdown",
   "metadata": {},
   "source": [
    "## Exploratory Analysis and Visualization\n",
    "\n",
    "Exploratory Data Analysis refers to the critical process of performing initial Analysis on data so as to discover patterns,to spot anomalies,to test hypothesis and to check assumptions with the help of summary statistics and graphical representations. we will Analysis following columns from Dataset.\n",
    "\n",
    "* First of all, we import seaborn, matplotlib, matplotlib.pyplot and set a fix peramiter\n",
    "* Type\n",
    "* Year\n",
    "* Genre\n",
    "* Age rating\n",
    "* Seasons\n",
    "\n"
   ]
  },
  {
   "cell_type": "markdown",
   "metadata": {},
   "source": [
    "Let's begin by importing`matplotlib.pyplot` and `seaborn`."
   ]
  },
  {
   "cell_type": "code",
   "execution_count": 26,
   "metadata": {},
   "outputs": [],
   "source": [
    "import seaborn as sns\n",
    "import matplotlib\n",
    "import matplotlib.pyplot as plt\n",
    "%matplotlib inline\n",
    "\n",
    "sns.set_style('darkgrid')\n",
    "matplotlib.rcParams['font.size'] = 14\n",
    "matplotlib.rcParams['figure.figsize'] = (9, 5)\n",
    "matplotlib.rcParams['figure.facecolor'] = '#00000000'"
   ]
  },
  {
   "cell_type": "code",
   "execution_count": 27,
   "metadata": {},
   "outputs": [
    {
     "data": {
      "text/html": [
       "<div>\n",
       "<style scoped>\n",
       "    .dataframe tbody tr th:only-of-type {\n",
       "        vertical-align: middle;\n",
       "    }\n",
       "\n",
       "    .dataframe tbody tr th {\n",
       "        vertical-align: top;\n",
       "    }\n",
       "\n",
       "    .dataframe thead th {\n",
       "        text-align: right;\n",
       "    }\n",
       "</style>\n",
       "<table border=\"1\" class=\"dataframe\">\n",
       "  <thead>\n",
       "    <tr style=\"text-align: right;\">\n",
       "      <th></th>\n",
       "      <th>hotstar_id</th>\n",
       "      <th>title</th>\n",
       "      <th>description</th>\n",
       "      <th>genre</th>\n",
       "      <th>year</th>\n",
       "      <th>age_rating</th>\n",
       "      <th>running_time</th>\n",
       "      <th>seasons</th>\n",
       "      <th>episodes</th>\n",
       "      <th>type</th>\n",
       "    </tr>\n",
       "  </thead>\n",
       "  <tbody>\n",
       "    <tr>\n",
       "      <th>0</th>\n",
       "      <td>1835064133</td>\n",
       "      <td>The Ring</td>\n",
       "      <td>Mutually divorced Aman emotionally struggles t...</td>\n",
       "      <td>Drama</td>\n",
       "      <td>2021</td>\n",
       "      <td>U/A 13+</td>\n",
       "      <td>17.0</td>\n",
       "      <td>0.0</td>\n",
       "      <td>0.0</td>\n",
       "      <td>movie</td>\n",
       "    </tr>\n",
       "    <tr>\n",
       "      <th>1</th>\n",
       "      <td>1260015636</td>\n",
       "      <td>Jesus: Rise To Power And Birth Of Christianity</td>\n",
       "      <td>A journey across the historic landscapes of th...</td>\n",
       "      <td>Documentary</td>\n",
       "      <td>2019</td>\n",
       "      <td>U/A 13+</td>\n",
       "      <td>42.0</td>\n",
       "      <td>0.0</td>\n",
       "      <td>0.0</td>\n",
       "      <td>movie</td>\n",
       "    </tr>\n",
       "    <tr>\n",
       "      <th>2</th>\n",
       "      <td>1000070418</td>\n",
       "      <td>Yama Muduru</td>\n",
       "      <td>Krishna Kumar is popular in college for his mu...</td>\n",
       "      <td>Drama</td>\n",
       "      <td>2009</td>\n",
       "      <td>U/A 13+</td>\n",
       "      <td>129.0</td>\n",
       "      <td>0.0</td>\n",
       "      <td>0.0</td>\n",
       "      <td>movie</td>\n",
       "    </tr>\n",
       "    <tr>\n",
       "      <th>3</th>\n",
       "      <td>1770000804</td>\n",
       "      <td>X-Men: The Last Stand</td>\n",
       "      <td>When humans find a cure for mutation, Professo...</td>\n",
       "      <td>Superhero</td>\n",
       "      <td>2006</td>\n",
       "      <td>U/A 13+</td>\n",
       "      <td>103.0</td>\n",
       "      <td>0.0</td>\n",
       "      <td>0.0</td>\n",
       "      <td>movie</td>\n",
       "    </tr>\n",
       "    <tr>\n",
       "      <th>4</th>\n",
       "      <td>1770005017</td>\n",
       "      <td>Mangalyaan: India's Mission To Mars</td>\n",
       "      <td>In this special, watch the 650 million km jour...</td>\n",
       "      <td>Documentary</td>\n",
       "      <td>2017</td>\n",
       "      <td>U</td>\n",
       "      <td>44.0</td>\n",
       "      <td>0.0</td>\n",
       "      <td>0.0</td>\n",
       "      <td>movie</td>\n",
       "    </tr>\n",
       "  </tbody>\n",
       "</table>\n",
       "</div>"
      ],
      "text/plain": [
       "   hotstar_id                                           title  \\\n",
       "0  1835064133                                        The Ring   \n",
       "1  1260015636  Jesus: Rise To Power And Birth Of Christianity   \n",
       "2  1000070418                                     Yama Muduru   \n",
       "3  1770000804                           X-Men: The Last Stand   \n",
       "4  1770005017             Mangalyaan: India's Mission To Mars   \n",
       "\n",
       "                                         description        genre  year  \\\n",
       "0  Mutually divorced Aman emotionally struggles t...        Drama  2021   \n",
       "1  A journey across the historic landscapes of th...  Documentary  2019   \n",
       "2  Krishna Kumar is popular in college for his mu...        Drama  2009   \n",
       "3  When humans find a cure for mutation, Professo...    Superhero  2006   \n",
       "4  In this special, watch the 650 million km jour...  Documentary  2017   \n",
       "\n",
       "  age_rating  running_time  seasons  episodes   type  \n",
       "0    U/A 13+          17.0      0.0       0.0  movie  \n",
       "1    U/A 13+          42.0      0.0       0.0  movie  \n",
       "2    U/A 13+         129.0      0.0       0.0  movie  \n",
       "3    U/A 13+         103.0      0.0       0.0  movie  \n",
       "4          U          44.0      0.0       0.0  movie  "
      ]
     },
     "execution_count": 27,
     "metadata": {},
     "output_type": "execute_result"
    }
   ],
   "source": [
    "hotstar_df.head(5)"
   ]
  },
  {
   "cell_type": "markdown",
   "metadata": {},
   "source": [
    "## Type"
   ]
  },
  {
   "cell_type": "code",
   "execution_count": 28,
   "metadata": {},
   "outputs": [
    {
     "data": {
      "text/plain": [
       "movie    4188\n",
       "tv       2171\n",
       "Name: type, dtype: int64"
      ]
     },
     "execution_count": 28,
     "metadata": {},
     "output_type": "execute_result"
    }
   ],
   "source": [
    "hotstar_df.type.value_counts()"
   ]
  },
  {
   "cell_type": "code",
   "execution_count": 35,
   "metadata": {},
   "outputs": [
    {
     "data": {
      "image/png": "[encoded data removed]",
      "text/plain": [
       "<Figure size 648x360 with 1 Axes>"
      ]
     },
     "metadata": {},
     "output_type": "display_data"
    }
   ],
   "source": [
    "hotstar_df.type.value_counts().plot(kind='pie', autopct='%1.1f%%')\n",
    "plt.title('Movies and Tv shows on Hotstar');"
   ]
  },
  {
   "cell_type": "markdown",
   "metadata": {},
   "source": [
    "In this Dataset, 65.9% movies and 34.1% Tv shows in Hotstar Dataset\n",
    "* movies = 4188\n",
    "* Tv shows = 2171"
   ]
  },
  {
   "cell_type": "markdown",
   "metadata": {},
   "source": [
    "## Year"
   ]
  },
  {
   "cell_type": "code",
   "execution_count": 36,
   "metadata": {},
   "outputs": [
    {
     "data": {
      "text/plain": [
       "2019    520\n",
       "2017    519\n",
       "2021    510\n",
       "2018    453\n",
       "2020    432\n",
       "       ... \n",
       "1958      1\n",
       "1950      1\n",
       "1951      1\n",
       "1960      1\n",
       "1942      1\n",
       "Name: year, Length: 77, dtype: int64"
      ]
     },
     "execution_count": 36,
     "metadata": {},
     "output_type": "execute_result"
    }
   ],
   "source": [
    "hotstar_df.year.value_counts()"
   ]
  },
  {
   "cell_type": "code",
   "execution_count": 38,
   "metadata": {},
   "outputs": [
    {
     "data": {
      "image/png": "[encoded data removed]",
      "text/plain": [
       "<Figure size 1080x504 with 1 Axes>"
      ]
     },
     "metadata": {
      "needs_background": "light"
     },
     "output_type": "display_data"
    }
   ],
   "source": [
    "plt.figure(figsize=(15,7))\n",
    "hotstar_df.year.value_counts().sort_values(ascending=False).plot(kind='bar')\n",
    "plt.xticks(rotation=90);\n",
    "plt.title('Yearly Contribution on Hotstar')\n",
    "plt.xlabel('Years')\n",
    "plt.ylabel('Numbers of movies and shows');"
   ]
  },
  {
   "cell_type": "markdown",
   "metadata": {},
   "source": [
    "In this Dataset, mostly movies and tv shows release on 2019 and 2017, after 2019 fall down of release movies,seem like because covid,\n",
    "* 2019= 500\n",
    "* 2017 = 519"
   ]
  },
  {
   "cell_type": "markdown",
   "metadata": {},
   "source": [
    "## Genres"
   ]
  },
  {
   "cell_type": "code",
   "execution_count": 39,
   "metadata": {},
   "outputs": [
    {
     "data": {
      "text/plain": [
       "array(['Drama', 'Documentary', 'Superhero', 'Musical', 'Romance',\n",
       "       'Family', 'Action', 'Kids', 'Comedy', 'Thriller', 'Crime',\n",
       "       'Horror', 'Mythology', 'Animals & Nature', 'Adventure',\n",
       "       'Animation', 'Mystery', 'Science Fiction', 'Historical',\n",
       "       'Standup Comedy', 'Teen', 'Fantasy', 'Science', 'Concert Film',\n",
       "       'Shorts', 'Docudrama', 'Biopic', 'Reality', 'Sport', 'Travel',\n",
       "       'Food', 'Talk Show', 'Awards', 'Kabaddi', 'Lifestyle', 'Football'],\n",
       "      dtype=object)"
      ]
     },
     "execution_count": 39,
     "metadata": {},
     "output_type": "execute_result"
    }
   ],
   "source": [
    "hotstar_df.genre.unique()"
   ]
  },
  {
   "cell_type": "markdown",
   "metadata": {},
   "source": [
    "There are all type of Genres avalible on Hotstar according to Detaset."
   ]
  },
  {
   "cell_type": "code",
   "execution_count": 41,
   "metadata": {
    "scrolled": true
   },
   "outputs": [],
   "source": [
    "hotstar_genre= hotstar_df.set_index('title').genre.str.split(',',expand=True).stack().reset_index(level=1, drop=True)\n"
   ]
  },
  {
   "cell_type": "code",
   "execution_count": 42,
   "metadata": {
    "scrolled": true
   },
   "outputs": [
    {
     "data": {
      "image/png": "[encoded data removed]",
      "text/plain": [
       "<Figure size 720x720 with 1 Axes>"
      ]
     },
     "metadata": {
      "needs_background": "light"
     },
     "output_type": "display_data"
    }
   ],
   "source": [
    "plt.figure(figsize=(10,10))\n",
    "sns.countplot(y=hotstar_genre, order= hotstar_genre.value_counts().sort_values(ascending=False).index[:20])\n",
    "plt.title('Genres on Hotstar')\n",
    "plt.ylabel('Genres')\n",
    "plt.xlabel('number of Shows/movies');"
   ]
  },
  {
   "cell_type": "markdown",
   "metadata": {},
   "source": [
    "In this Datasets, mostly highest numbers of  Genre  **Drama** and **Comedy** on Hotstar\n",
    "* Drama around = 1800\n",
    "* Comedy around = 750"
   ]
  },
  {
   "cell_type": "markdown",
   "metadata": {},
   "source": [
    "## Age Rating"
   ]
  },
  {
   "cell_type": "code",
   "execution_count": 43,
   "metadata": {},
   "outputs": [
    {
     "data": {
      "text/plain": [
       "array(['U/A 13+', 'U', 'U/A 7+', 'U/A 16+', 'A', 'PG', 'G', '15+',\n",
       "       'Kannada', 'English', '12+', 'Star Sports Kannada 1', 'Telugu',\n",
       "       'Star Sports 1 Telugu', 'Marathi', 'Star Suvarna', 'Hindi',\n",
       "       'Star Sports 1 Marathi', 'Star Vijay', 'Star Sports 2', 'Tamil',\n",
       "       'Star Sports Hindi 1'], dtype=object)"
      ]
     },
     "execution_count": 43,
     "metadata": {},
     "output_type": "execute_result"
    }
   ],
   "source": [
    "hotstar_df.age_rating.unique()"
   ]
  },
  {
   "cell_type": "markdown",
   "metadata": {},
   "source": [
    "This are Rating avalible on Hotstar"
   ]
  },
  {
   "cell_type": "code",
   "execution_count": 44,
   "metadata": {},
   "outputs": [],
   "source": [
    "hotstar_rating = hotstar_df.set_index('title').age_rating.str.split(',',expand=True).stack().reset_index(level=1,drop=True)"
   ]
  },
  {
   "cell_type": "code",
   "execution_count": 46,
   "metadata": {},
   "outputs": [
    {
     "data": {
      "image/png": "[encoded data removed]",
      "text/plain": [
       "<Figure size 504x360 with 1 Axes>"
      ]
     },
     "metadata": {
      "needs_background": "light"
     },
     "output_type": "display_data"
    }
   ],
   "source": [
    "plt.figure(figsize=(7,5))\n",
    "sns.countplot(y = hotstar_rating, order=hotstar_rating.value_counts().sort_values(ascending=False).index[:10]);\n",
    "plt.title('Age rating on Hotstar')\n",
    "plt.xlabel('number of Shows/Movies')\n",
    "plt.ylabel('Age Rating');"
   ]
  },
  {
   "cell_type": "markdown",
   "metadata": {},
   "source": [
    "mostly highest number of  age rating is  U/A 13+, and U are Avalible pn Hotstar on bases of Dataset,\n",
    "* and U/A 13+ and U/A means The Big 'UA' - Stands for 'Unrestricted with Caution', which means parental guidance is required for viewers under the age of 12. The Big 'A' - Stands for 'Adults Only', which obviously prohibits anybody under the age of 18 to watch the film in theatres,\n",
    "* U/A 13+  around= 2750 \n",
    "* U/A around= 1200"
   ]
  },
  {
   "cell_type": "markdown",
   "metadata": {},
   "source": [
    "## Seasons"
   ]
  },
  {
   "cell_type": "code",
   "execution_count": 49,
   "metadata": {},
   "outputs": [],
   "source": [
    "hotstar_seasons =hotstar_df.set_index('title').seasons\n",
    "hotstar_seasons = hotstar_seasons[hotstar_seasons != 0]"
   ]
  },
  {
   "cell_type": "code",
   "execution_count": 50,
   "metadata": {},
   "outputs": [
    {
     "data": {
      "image/png": "[encoded data removed]",
      "text/plain": [
       "<Figure size 648x360 with 1 Axes>"
      ]
     },
     "metadata": {
      "needs_background": "light"
     },
     "output_type": "display_data"
    }
   ],
   "source": [
    "sns.countplot(y =hotstar_seasons, order= hotstar_seasons.value_counts().index[:20])\n",
    "plt.title('Numbers of Seasons of title on Hotstar')\n",
    "plt.xlabel('Number of Title')\n",
    "plt.ylabel('Seasons');"
   ]
  },
  {
   "cell_type": "markdown",
   "metadata": {},
   "source": [
    "According to Dataset, Mostly title have a one season and 2 season  on Hotstar\n",
    "* Season 1 = 1500 around\n",
    "* season 2 = 300 around"
   ]
  },
  {
   "cell_type": "code",
   "execution_count": 51,
   "metadata": {},
   "outputs": [],
   "source": [
    "import jovian"
   ]
  },
  {
   "cell_type": "code",
   "execution_count": 52,
   "metadata": {},
   "outputs": [
    {
     "data": {
      "application/javascript": [
       "window.require && require([\"base/js/namespace\"],function(Jupyter){Jupyter.notebook.save_checkpoint()})"
      ],
      "text/plain": [
       "<IPython.core.display.Javascript object>"
      ]
     },
     "metadata": {},
     "output_type": "display_data"
    },
    {
     "name": "stdout",
     "output_type": "stream",
     "text": [
      "[jovian] Updating notebook \"amodi1486/disney-hotstar-tv-shows-and-movies\" on https://jovian.ai\u001b[0m\n",
      "[jovian] Committed successfully! https://jovian.ai/amodi1486/disney-hotstar-tv-shows-and-movies\u001b[0m\n"
     ]
    },
    {
     "data": {
      "text/plain": [
       "'https://jovian.ai/amodi1486/disney-hotstar-tv-shows-and-movies'"
      ]
     },
     "execution_count": 52,
     "metadata": {},
     "output_type": "execute_result"
    }
   ],
   "source": [
    "jovian.commit(project=project_name)"
   ]
  },
  {
   "cell_type": "markdown",
   "metadata": {},
   "source": [
    "## Asking and Answering Questions\n"
   ]
  },
  {
   "cell_type": "markdown",
   "metadata": {},
   "source": [
    "#### Q1: How many movies and Tv show release on 2022 ? show with Graph"
   ]
  },
  {
   "cell_type": "code",
   "execution_count": 53,
   "metadata": {},
   "outputs": [],
   "source": [
    "hotstar_year = hotstar_df[hotstar_df['year']==2022]"
   ]
  },
  {
   "cell_type": "code",
   "execution_count": 54,
   "metadata": {},
   "outputs": [
    {
     "data": {
      "image/png": "[encoded data removed]",
      "text/plain": [
       "<Figure size 648x360 with 1 Axes>"
      ]
     },
     "metadata": {},
     "output_type": "display_data"
    }
   ],
   "source": [
    "hotstar_year.type.value_counts().plot(kind='pie', autopct = '%1.1f%%')\n",
    "plt.title('Movie and tv show on Hotstar in 2022');"
   ]
  },
  {
   "cell_type": "markdown",
   "metadata": {},
   "source": [
    "In the Dataset, highest numbers of tv show release in 2022 as compare to Movies,\n",
    "* Tv show = 67.8%\n",
    "* Movies = 32.2% \n",
    "this Data only for 2022 of Hotstar"
   ]
  },
  {
   "cell_type": "markdown",
   "metadata": {},
   "source": [
    "#### Q2: Which movies/ Tv show have the longest season on hotstar? Show with Graph !"
   ]
  },
  {
   "cell_type": "code",
   "execution_count": 55,
   "metadata": {},
   "outputs": [],
   "source": [
    "hotstar_title=hotstar_df[['title', 'seasons']].sort_values('seasons', ascending=False).head(10)"
   ]
  },
  {
   "cell_type": "code",
   "execution_count": 56,
   "metadata": {},
   "outputs": [
    {
     "data": {
      "image/png": "[encoded data removed]",
      "text/plain": [
       "<Figure size 648x360 with 1 Axes>"
      ]
     },
     "metadata": {
      "needs_background": "light"
     },
     "output_type": "display_data"
    }
   ],
   "source": [
    "hotstar_title.plot.barh(y = 'seasons', x = 'title')\n",
    "plt.title('Top Highest Season Shows')\n",
    "plt.xlabel('number of Seasons')\n",
    "plt.ylabel('title');"
   ]
  },
  {
   "cell_type": "markdown",
   "metadata": {},
   "source": [
    "Accordning to Datset, **Savdhaan India** and **Yeh Rishta Kya Kehlata Hai** is top longest seasons on Hotstar\n",
    "* Shavdhaan India = 73 Seasons\n",
    "* Yeh Rishta Kya Kehlata Hai = 67 Seasons"
   ]
  },
  {
   "cell_type": "markdown",
   "metadata": {},
   "source": [
    "#### Q3: Which year add much Content of Rating U/A 13+ on Hotstar ? show with Graph !"
   ]
  },
  {
   "cell_type": "code",
   "execution_count": 57,
   "metadata": {},
   "outputs": [],
   "source": [
    "hotstar_rat = hotstar_df[hotstar_df['age_rating']=='U/A 13+']\n",
    "hotstar = hotstar_rat[['year', 'age_rating']].sort_values('year',ascending=False)\n",
    "hotstar_rating = hotstar.groupby(['year'])['age_rating'].count().sort_values(ascending=False).head(10)\n"
   ]
  },
  {
   "cell_type": "code",
   "execution_count": 58,
   "metadata": {},
   "outputs": [
    {
     "data": {
      "image/png": "[encoded data removed]",
      "text/plain": [
       "<Figure size 648x360 with 1 Axes>"
      ]
     },
     "metadata": {
      "needs_background": "light"
     },
     "output_type": "display_data"
    }
   ],
   "source": [
    "hotstar_rating.plot(kind='bar')\n",
    "plt.title('Add high Content of U/A 113+ On Hotstar')\n",
    "plt.xlabel('Year')\n",
    "plt.ylabel('U/A 13+ Rating');"
   ]
  },
  {
   "cell_type": "markdown",
   "metadata": {},
   "source": [
    "According to Dataset, Highest Content Add of U/A 13+ in 2017 on Hotstar,\n",
    "* 2017 = 217 Content\n",
    "* 2021 = 208 Content Add on Hotstar"
   ]
  },
  {
   "cell_type": "markdown",
   "metadata": {},
   "source": [
    "#### Q4: which top 10  highest Genres release in 2022 on hotstar ? show with Graph !"
   ]
  },
  {
   "cell_type": "code",
   "execution_count": 59,
   "metadata": {},
   "outputs": [],
   "source": [
    "hotstar_year = hotstar_df[hotstar_df['year']==2022]"
   ]
  },
  {
   "cell_type": "code",
   "execution_count": 60,
   "metadata": {},
   "outputs": [
    {
     "data": {
      "image/png": "[encoded data removed]",
      "text/plain": [
       "<Figure size 648x360 with 1 Axes>"
      ]
     },
     "metadata": {},
     "output_type": "display_data"
    }
   ],
   "source": [
    "hotstar_year.genre.value_counts().sort_values(ascending=False).head(5).plot(kind='pie', autopct = '%1.1f%%');\n",
    "plt.ylabel('Genres')\n",
    "plt.title('Top Genres release in 2022');\n"
   ]
  },
  {
   "cell_type": "markdown",
   "metadata": {},
   "source": [
    "According to Dataset, these are top 5  genrs most release on 2022 on Hotstar,\n",
    "* Drama = 38.9%\n",
    "* Romance = 11.1%\n",
    "* Documentary = 12.2%\n",
    "* Comedy = 14.4%\n",
    "* Reality = 23.3%"
   ]
  },
  {
   "cell_type": "markdown",
   "metadata": {},
   "source": [
    "#### Q5: Which movies/ Tv show have the high number of Episodes on hotstar? Show with Graph !"
   ]
  },
  {
   "cell_type": "code",
   "execution_count": 61,
   "metadata": {},
   "outputs": [],
   "source": [
    "hotstar_episodes=hotstar_df[['title', 'episodes']].sort_values('episodes', ascending=False).head(10)"
   ]
  },
  {
   "cell_type": "code",
   "execution_count": 62,
   "metadata": {},
   "outputs": [
    {
     "data": {
      "image/png": "[encoded data removed]",
      "text/plain": [
       "<Figure size 648x360 with 1 Axes>"
      ]
     },
     "metadata": {
      "needs_background": "light"
     },
     "output_type": "display_data"
    }
   ],
   "source": [
    "hotstar_episodes.plot.barh(y = 'episodes', x = 'title')\n",
    "plt.title('Top Highest Episodes on Hotstar')\n",
    "plt.xlabel('number of Seasons')\n",
    "plt.ylabel('title');"
   ]
  },
  {
   "cell_type": "markdown",
   "metadata": {},
   "source": [
    "According to Dataset, Highest numbers of Episodes of **Yeh Rishta Kya Kehlata Hai** and ** Saath Nibhaana Saathiya 2**\n",
    "* Yeh Rishta Kya Kehlata Hai = 3800 around\n",
    "* Saath Nibhaana Saathiya 2 = 2800 around"
   ]
  },
  {
   "cell_type": "markdown",
   "metadata": {},
   "source": [
    "## Inferences and Conclusion\n",
    "\n",
    "\n",
    "We have drawn many interesting inferences from the dataset of Hotstar ; here’s a summary of the few of them\n",
    "\n",
    "* These Datasets of Hotstar, in this dataset lot of information like title, movies , tv shows, release years, and seasons of each titles etc\n",
    "\n",
    "* movies (65.9%) is type that is mostly release on Hotstar as compare to Tv shows(34.1%),\n",
    "\n",
    "* mostly movies and Tv shows release in 2019 and 2017 on Hotstar,\n",
    "\n",
    "* Drama and Comedy both most popular Genres on Hotstar,\n",
    "\n",
    "* Highest shows / Movies have Age Rating is U/A 13+ on Hotstar, and next UA, U/A 7+, and U/A 16+ are also high rating avalible on Hotstar\n",
    "\n",
    "* And we founded, mostly Tv shows and movies have 1 or 2 seasons on Hotstar, we also find that season 1 content is 1500 content availible on Hotstar.\n",
    "\n",
    "* and mostly Tv shows(67.8%) release in 2022 as compare to Movies(32.2%) on Hotstar,\n",
    "\n",
    "* and also founded, that highest Seasons Tv shows is Ye Rista kya kehlata hai and Shavdhaan India title avaliable on Hotstar.\n",
    "\n",
    "* 2017 and 2021 add much Content of Rating U/A 13+ on Hotstar,\n",
    "\n",
    "* mostly Five Genres release in highest number Drama = 38.9% ,Romance = 11.1%, Documentary = 12.2%, Comedy = 14.4%, Reality23.3% in 2022 on Hotstar\n",
    "\n",
    "* and last highest numbers of Episodes of title ye rista kya kehlata hai and Saath Nibhana Shathiya 2 avaliable on Hotstar.\n",
    "\n",
    "So we Founded all information about Hotstar Dataset.\n",
    "\n"
   ]
  }
 ],
 "metadata": {
  "kernelspec": {
   "display_name": "Python 3 (ipykernel)",
   "language": "python",
   "name": "python3"
  },
  "language_info": {
   "codemirror_mode": {
    "name": "ipython",
    "version": 3
   },
   "file_extension": ".py",
   "mimetype": "text/x-python",
   "name": "python",
   "nbconvert_exporter": "python",
   "pygments_lexer": "ipython3",
   "version": "3.11.4"
  }
 },
 "nbformat": 4,
 "nbformat_minor": 4
}
